{
  "nbformat": 4,
  "nbformat_minor": 0,
  "metadata": {
    "colab": {
      "name": "function 1",
      "provenance": [],
      "collapsed_sections": []
    },
    "kernelspec": {
      "name": "python3",
      "display_name": "Python 3"
    }
  },
  "cells": [
    {
      "cell_type": "code",
      "metadata": {
        "colab": {
          "base_uri": "https://localhost:8080/"
        },
        "id": "k1X01ksN3ZhD",
        "outputId": "8a0d13c7-08f3-4f89-d537-696def2aa9da"
      },
      "source": [
        "def add():\n",
        "  a,b=10,20\n",
        "  print (a+b)\n",
        "add()  #Function call"
      ],
      "execution_count": 2,
      "outputs": [
        {
          "output_type": "stream",
          "text": [
            "30\n"
          ],
          "name": "stdout"
        }
      ]
    },
    {
      "cell_type": "code",
      "metadata": {
        "colab": {
          "base_uri": "https://localhost:8080/"
        },
        "id": "GX9QoJsG42In",
        "outputId": "88977d3d-b4a0-4af2-c383-49e617dd804d"
      },
      "source": [
        "def add(a,b):\n",
        "  print(a+b)\n",
        "add(10,20)\n",
        "add(50,50)"
      ],
      "execution_count": 3,
      "outputs": [
        {
          "output_type": "stream",
          "text": [
            "30\n",
            "100\n"
          ],
          "name": "stdout"
        }
      ]
    },
    {
      "cell_type": "markdown",
      "metadata": {
        "id": "HZmYmAevOv2n"
      },
      "source": [
        "Positional arguments"
      ]
    },
    {
      "cell_type": "code",
      "metadata": {
        "colab": {
          "base_uri": "https://localhost:8080/"
        },
        "id": "l8sO4Oej7AaR",
        "outputId": "00376f55-c682-4da6-a3bb-401ddb5e194f"
      },
      "source": [
        "def example(name,place):\n",
        "  print(name.title()+\" is a name\")\n",
        "  print(place.title()+\" is a place\")\n",
        "example('ram','trivandrm')\n",
        "example('trivandrm','ram')"
      ],
      "execution_count": 4,
      "outputs": [
        {
          "output_type": "stream",
          "text": [
            "Ram is a name\n",
            "Trivandrm is a place\n",
            "Trivandrm is a name\n",
            "Ram is a place\n"
          ],
          "name": "stdout"
        }
      ]
    },
    {
      "cell_type": "markdown",
      "metadata": {
        "id": "EGBpYLFLNokI"
      },
      "source": [
        "keyword arguments"
      ]
    },
    {
      "cell_type": "code",
      "metadata": {
        "colab": {
          "base_uri": "https://localhost:8080/"
        },
        "id": "lLQ-1r1q8T0B",
        "outputId": "e83a24a3-c814-43f7-e7ed-7d746b374ed7"
      },
      "source": [
        "def example(name,place):\n",
        "  print(name.title()+\" is a name\")\n",
        "  print(place.title()+\" is a place\")\n",
        "example(name='ram',place='trivandrum')\n",
        "example(place='trivandrum',name='ram')"
      ],
      "execution_count": 5,
      "outputs": [
        {
          "output_type": "stream",
          "text": [
            "Ram is a name\n",
            "Trivandrum is a place\n",
            "Ram is a name\n",
            "Trivandrum is a place\n"
          ],
          "name": "stdout"
        }
      ]
    },
    {
      "cell_type": "markdown",
      "metadata": {
        "id": "FEXUkY7PN5g5"
      },
      "source": [
        "default values"
      ]
    },
    {
      "cell_type": "code",
      "metadata": {
        "colab": {
          "base_uri": "https://localhost:8080/"
        },
        "id": "OxtHXsv09blE",
        "outputId": "b57d94c5-0031-4b76-bc94-89a87337b589"
      },
      "source": [
        "def example(name,place='trivandrum'):\n",
        "  print(name.title()+\" is a name\")\n",
        "  print(place.title()+\" is a place\")\n",
        "example(name='ram')"
      ],
      "execution_count": 6,
      "outputs": [
        {
          "output_type": "stream",
          "text": [
            "Ram is a name\n",
            "Trivandrum is a place\n"
          ],
          "name": "stdout"
        }
      ]
    },
    {
      "cell_type": "markdown",
      "metadata": {
        "id": "sfMiR88vODZl"
      },
      "source": [
        "return values"
      ]
    },
    {
      "cell_type": "code",
      "metadata": {
        "colab": {
          "base_uri": "https://localhost:8080/"
        },
        "id": "ARHFvlqC-ccI",
        "outputId": "108eb29d-a50c-40f1-f182-ad583e6f4700"
      },
      "source": [
        "def large_num(a,b):\n",
        "  if (a>b):\n",
        "      return a\n",
        "  else:\n",
        "      return b\n",
        "print(\"Larger number is :\",large_num(2,3))"
      ],
      "execution_count": 7,
      "outputs": [
        {
          "output_type": "stream",
          "text": [
            "Larger number is : 3\n"
          ],
          "name": "stdout"
        }
      ]
    },
    {
      "cell_type": "markdown",
      "metadata": {
        "id": "Y20lojDtO22P"
      },
      "source": [
        "Returning a dictionary"
      ]
    },
    {
      "cell_type": "code",
      "metadata": {
        "colab": {
          "base_uri": "https://localhost:8080/"
        },
        "id": "Z_n9r6FA_fdB",
        "outputId": "861e1b86-cda3-437f-faed-9006417c3048"
      },
      "source": [
        "def build_person(first_name,last_name):\n",
        "  \"\"\"Return a dictionary of information about a person\"\"\"\n",
        "  person ={'first':first_name,'last':last_name}\n",
        "  return person\n",
        "name=build_person('APJ Abdul','Kalam')\n",
        "print (name)"
      ],
      "execution_count": 8,
      "outputs": [
        {
          "output_type": "stream",
          "text": [
            "{'first': 'APJ Abdul', 'last': 'Kalam'}\n"
          ],
          "name": "stdout"
        }
      ]
    },
    {
      "cell_type": "markdown",
      "metadata": {
        "id": "xA4zqcKUO866"
      },
      "source": [
        "Passing a list"
      ]
    },
    {
      "cell_type": "code",
      "metadata": {
        "colab": {
          "base_uri": "https://localhost:8080/"
        },
        "id": "0DCT1SlhBHet",
        "outputId": "751bfa87-a7c6-4c19-aed3-0210d304704e"
      },
      "source": [
        "def greet_users(names):\n",
        "  for name in names:\n",
        "       msg=\"Hello,\"+ name.title()+\"!\"\n",
        "       print (msg)\n",
        "usernames=['raj','ram','john']\n",
        "greet_users(usernames)"
      ],
      "execution_count": 10,
      "outputs": [
        {
          "output_type": "stream",
          "text": [
            "Hello,Raj!\n",
            "Hello,Ram!\n",
            "Hello,John!\n"
          ],
          "name": "stdout"
        }
      ]
    },
    {
      "cell_type": "markdown",
      "metadata": {
        "id": "Zan2wEH5PC5J"
      },
      "source": [
        "Passing an arbitrary number of arguments"
      ]
    },
    {
      "cell_type": "code",
      "metadata": {
        "colab": {
          "base_uri": "https://localhost:8080/"
        },
        "id": "v5S9dp5wEH0y",
        "outputId": "2413bca9-add7-4060-bf48-0758fadd9c4b"
      },
      "source": [
        "def fruits(*fruit):\n",
        "   print(fruit)\n",
        "fruits('apple')\n",
        "fruits('grapes','oranges','mango')"
      ],
      "execution_count": 11,
      "outputs": [
        {
          "output_type": "stream",
          "text": [
            "('apple',)\n",
            "('grapes', 'oranges', 'mango')\n"
          ],
          "name": "stdout"
        }
      ]
    },
    {
      "cell_type": "markdown",
      "metadata": {
        "id": "lkjI1EiiPWhy"
      },
      "source": [
        "Using Arbitrary keyword Arguments"
      ]
    },
    {
      "cell_type": "code",
      "metadata": {
        "colab": {
          "base_uri": "https://localhost:8080/"
        },
        "id": "yugwtRzWFJvY",
        "outputId": "8c4b6711-8d05-4fbd-90d4-4c488ef3eb90"
      },
      "source": [
        "def sample(first,last,**user_info):\n",
        "    profile={}\n",
        "    profile['first_name']=first\n",
        "    profile['last_name']=last\n",
        "    for key,value in user_info.items():\n",
        "       profile[key]=value\n",
        "    return profile\n",
        "user_profile=sample('albert','einstein',location='princeton',field='physics')\n",
        "print(user_profile)"
      ],
      "execution_count": 12,
      "outputs": [
        {
          "output_type": "stream",
          "text": [
            "{'first_name': 'albert', 'last_name': 'einstein', 'location': 'princeton', 'field': 'physics'}\n"
          ],
          "name": "stdout"
        }
      ]
    },
    {
      "cell_type": "markdown",
      "metadata": {
        "id": "YmQzx3MwPsdz"
      },
      "source": [
        "lambda()"
      ]
    },
    {
      "cell_type": "code",
      "metadata": {
        "colab": {
          "base_uri": "https://localhost:8080/"
        },
        "id": "pFD8z7J4HRAc",
        "outputId": "4b034ea3-d464-4885-f8c5-76d0931df213"
      },
      "source": [
        "#without lambda \n",
        "def func(x):return x**3\n",
        "print(func(5))"
      ],
      "execution_count": 13,
      "outputs": [
        {
          "output_type": "stream",
          "text": [
            "125\n"
          ],
          "name": "stdout"
        }
      ]
    },
    {
      "cell_type": "code",
      "metadata": {
        "colab": {
          "base_uri": "https://localhost:8080/"
        },
        "id": "lF79uIH7INQM",
        "outputId": "8ce44cde-096d-4ee9-a752-32a6cd9596ce"
      },
      "source": [
        "# with lambda\n",
        "lamb=lambda x:x**3\n",
        "print(lamb(5))"
      ],
      "execution_count": 14,
      "outputs": [
        {
          "output_type": "stream",
          "text": [
            "125\n"
          ],
          "name": "stdout"
        }
      ]
    },
    {
      "cell_type": "markdown",
      "metadata": {
        "id": "1ZYkMbejKKpI"
      },
      "source": [
        ""
      ]
    },
    {
      "cell_type": "markdown",
      "metadata": {
        "id": "9kd4_45fPxy5"
      },
      "source": [
        "map()"
      ]
    },
    {
      "cell_type": "code",
      "metadata": {
        "colab": {
          "base_uri": "https://localhost:8080/"
        },
        "id": "tUyyeKGwIdaz",
        "outputId": "4d41d72d-efad-485a-ee9e-3b67515912aa"
      },
      "source": [
        "#without map\n",
        "items=[1,2,3,4,5]\n",
        "squared=[]\n",
        "for i in items:\n",
        "  squared.append(i**2)\n",
        "print(items,squared)"
      ],
      "execution_count": 15,
      "outputs": [
        {
          "output_type": "stream",
          "text": [
            "[1, 2, 3, 4, 5] [1, 4, 9, 16, 25]\n"
          ],
          "name": "stdout"
        }
      ]
    },
    {
      "cell_type": "code",
      "metadata": {
        "colab": {
          "base_uri": "https://localhost:8080/"
        },
        "id": "6MesxRiHJRwk",
        "outputId": "be13e196-de61-4ef2-e7b0-3e3de9c05790"
      },
      "source": [
        "#with map\n",
        "items=[1,2,3,4,5]\n",
        "squared=list(map(lambda x:x**2,items))\n",
        "print(items)\n",
        "print(squared)"
      ],
      "execution_count": 16,
      "outputs": [
        {
          "output_type": "stream",
          "text": [
            "[1, 2, 3, 4, 5]\n",
            "[1, 4, 9, 16, 25]\n"
          ],
          "name": "stdout"
        }
      ]
    },
    {
      "cell_type": "code",
      "metadata": {
        "colab": {
          "base_uri": "https://localhost:8080/"
        },
        "id": "lvqOfAkJK2z9",
        "outputId": "16e91f56-e9da-4982-a08f-077da88db6ed"
      },
      "source": [
        "def multiply(x):\n",
        "  return(x*x)\n",
        "def add(x):\n",
        "  return(x+x)\n",
        "funcs=[multiply,add]\n",
        "for i in range(5):\n",
        "   value=list(map(lambda x:x(i),funcs))\n",
        "   print(value)"
      ],
      "execution_count": 17,
      "outputs": [
        {
          "output_type": "stream",
          "text": [
            "[0, 0]\n",
            "[1, 2]\n",
            "[4, 4]\n",
            "[9, 6]\n",
            "[16, 8]\n"
          ],
          "name": "stdout"
        }
      ]
    },
    {
      "cell_type": "markdown",
      "metadata": {
        "id": "2TwaCVg7P54N"
      },
      "source": [
        "filter()"
      ]
    },
    {
      "cell_type": "code",
      "metadata": {
        "colab": {
          "base_uri": "https://localhost:8080/"
        },
        "id": "rF-wybTyLzzz",
        "outputId": "27534236-9cd9-48ac-9b58-cd8df3ebb615"
      },
      "source": [
        "number_list=range(-5,5)\n",
        "less_than_zero=list(filter(lambda x:x<0,number_list))\n",
        "print(less_than_zero)"
      ],
      "execution_count": 18,
      "outputs": [
        {
          "output_type": "stream",
          "text": [
            "[-5, -4, -3, -2, -1]\n"
          ],
          "name": "stdout"
        }
      ]
    }
  ]
}